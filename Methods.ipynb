{
 "cells": [
  {
   "cell_type": "code",
   "execution_count": 58,
   "metadata": {},
   "outputs": [],
   "source": [
    "import random"
   ]
  },
  {
   "cell_type": "code",
   "execution_count": 208,
   "metadata": {},
   "outputs": [],
   "source": [
    "a = [random.randint(1, 99) for i in range(100)]\n",
    "b = [random.randint(1, 99) for i in range(100)]\n",
    "target = random.randint(1, 99)"
   ]
  },
  {
   "cell_type": "code",
   "execution_count": 209,
   "metadata": {},
   "outputs": [
    {
     "data": {
      "text/plain": [
       "93"
      ]
     },
     "execution_count": 209,
     "metadata": {},
     "output_type": "execute_result"
    }
   ],
   "source": [
    "target"
   ]
  },
  {
   "cell_type": "markdown",
   "metadata": {},
   "source": [
    "#### Basic"
   ]
  },
  {
   "cell_type": "code",
   "execution_count": 216,
   "metadata": {},
   "outputs": [],
   "source": [
    "def basic_sol(a, b, target):\n",
    "    for i in a:\n",
    "        for j in b:\n",
    "            if i + j == target:\n",
    "                return (i, j)\n",
    "                break"
   ]
  },
  {
   "cell_type": "code",
   "execution_count": 217,
   "metadata": {},
   "outputs": [
    {
     "name": "stdout",
     "output_type": "stream",
     "text": [
      "CPU times: user 22 µs, sys: 1 µs, total: 23 µs\n",
      "Wall time: 27.9 µs\n"
     ]
    },
    {
     "data": {
      "text/plain": [
       "(8, 85)"
      ]
     },
     "execution_count": 217,
     "metadata": {},
     "output_type": "execute_result"
    }
   ],
   "source": [
    "%%time\n",
    "basic_sol(a, b, target)"
   ]
  },
  {
   "cell_type": "markdown",
   "metadata": {},
   "source": [
    "#### Better"
   ]
  },
  {
   "cell_type": "code",
   "execution_count": 218,
   "metadata": {},
   "outputs": [],
   "source": [
    "def better_sol(a, b, target):\n",
    "    assert(len(a) == len(b)), 'a must be the same length as b' \n",
    "    a_sorted = sorted(a)\n",
    "    b_sorted = sorted(b)\n",
    "    c = [a_sorted[i] + b_sorted[i] for i in range(len(a))]        \n",
    "    for i in range(len(a)):\n",
    "        if target >= c[i] and target <= c[i+1]:\n",
    "            lower = i\n",
    "            upper = i+1\n",
    "    a_short = [a_sorted[lower], a_sorted[upper]]\n",
    "    b_short = [b_sorted[lower], b_sorted[upper]]\n",
    "    for i in a_short:\n",
    "        for j in b_short:\n",
    "            if (i + j) == target:\n",
    "                return (i, j)\n",
    "                break"
   ]
  },
  {
   "cell_type": "code",
   "execution_count": 219,
   "metadata": {},
   "outputs": [
    {
     "name": "stdout",
     "output_type": "stream",
     "text": [
      "CPU times: user 110 µs, sys: 1 µs, total: 111 µs\n",
      "Wall time: 118 µs\n"
     ]
    },
    {
     "data": {
      "text/plain": [
       "(46, 47)"
      ]
     },
     "execution_count": 219,
     "metadata": {},
     "output_type": "execute_result"
    }
   ],
   "source": [
    "%%time\n",
    "better_sol(a, b, target)"
   ]
  }
 ],
 "metadata": {
  "kernelspec": {
   "display_name": "Python 3",
   "language": "python",
   "name": "python3"
  },
  "language_info": {
   "codemirror_mode": {
    "name": "ipython",
    "version": 3
   },
   "file_extension": ".py",
   "mimetype": "text/x-python",
   "name": "python",
   "nbconvert_exporter": "python",
   "pygments_lexer": "ipython3",
   "version": "3.6.4"
  }
 },
 "nbformat": 4,
 "nbformat_minor": 2
}
